{
 "cells": [
  {
   "cell_type": "code",
   "execution_count": 142,
   "metadata": {},
   "outputs": [],
   "source": [
    "import json\n",
    "import pandas as pd\n",
    "import pickle"
   ]
  },
  {
   "cell_type": "code",
   "execution_count": 3,
   "metadata": {},
   "outputs": [],
   "source": [
    "with open(r'../Data/Dataset/comments.json') as f:\n",
    "    comments = json.load(f)"
   ]
  },
  {
   "cell_type": "code",
   "execution_count": 7,
   "metadata": {},
   "outputs": [],
   "source": [
    "df = pd.DataFrame(comments)"
   ]
  },
  {
   "cell_type": "code",
   "execution_count": 20,
   "metadata": {},
   "outputs": [],
   "source": [
    "indexes = df[df['label'] == -1].index"
   ]
  },
  {
   "cell_type": "code",
   "execution_count": 22,
   "metadata": {},
   "outputs": [
    {
     "name": "stdout",
     "output_type": "stream",
     "text": [
      "14434 comments are unlabeled\n"
     ]
    }
   ],
   "source": [
    "print(f'{len(indexes)} comments are unlabeled')"
   ]
  },
  {
   "cell_type": "code",
   "execution_count": 147,
   "metadata": {
    "scrolled": true
   },
   "outputs": [
    {
     "name": "stdout",
     "output_type": "stream",
     "text": [
      "Fetch another comment?n\n"
     ]
    }
   ],
   "source": [
    "for comment, index in comment_generator(df, indexes, comments):\n",
    "    print(comment)\n",
    "    flag = handle_response(df, index, comments)\n",
    "    if not flag:\n",
    "        print('Error in processing comment.  No changes will be saved')"
   ]
  },
  {
   "cell_type": "code",
   "execution_count": 146,
   "metadata": {},
   "outputs": [],
   "source": [
    "def comment_generator(df, indexes, comments):\n",
    "    cur_index = indexes[0]\n",
    "    response = 'y'\n",
    "    while response == 'y' and cur_index < len(indexes):\n",
    "        response = str(input('Fetch another comment?'))\n",
    "        if response == 'y':\n",
    "            yield df.iloc[cur_index]['comment'], cur_index\n",
    "            cur_index += 1\n",
    "        elif response == 'n':\n",
    "            exit(df, comments)\n",
    "        else:\n",
    "            while response != 'y' and response != 'n':\n",
    "                response = str(input('Invalid command.  Fetch another comment?'))"
   ]
  },
  {
   "cell_type": "code",
   "execution_count": 133,
   "metadata": {},
   "outputs": [],
   "source": [
    "def handle_response(df, index, comments):\n",
    "    response = str(input('Please rate the comment: '))\n",
    "    \n",
    "    while not response.isnumeric() or (int(response) < 1 or int(response) > 4):\n",
    "        response = str(input('Please rate the comment: '))\n",
    "    \n",
    "    response = int(response)\n",
    "    df.at[index, 'label'] = response\n",
    "    comments[index]['rating'] = response\n",
    "    return df.iloc[index]['comment'] == comments[index]['comment']"
   ]
  },
  {
   "cell_type": "code",
   "execution_count": 151,
   "metadata": {},
   "outputs": [],
   "source": [
    "def exit(df, comments):\n",
    "    with open(r'../Data/Dataset/labeling_progress.pickle', 'wb') as f:\n",
    "        pickle.dump(df, f)\n",
    "    with open(r'../Data/Dataset/comments.json') as f:\n",
    "        json.dump(comments, f)"
   ]
  },
  {
   "cell_type": "code",
   "execution_count": 149,
   "metadata": {},
   "outputs": [],
   "source": [
    "with open(r'../Data/Dataset/labeling_progress.pickle', 'rb') as f:\n",
    "        test = pickle.load(f)"
   ]
  },
  {
   "cell_type": "code",
   "execution_count": 150,
   "metadata": {},
   "outputs": [
    {
     "data": {
      "text/html": [
       "<div>\n",
       "<style scoped>\n",
       "    .dataframe tbody tr th:only-of-type {\n",
       "        vertical-align: middle;\n",
       "    }\n",
       "\n",
       "    .dataframe tbody tr th {\n",
       "        vertical-align: top;\n",
       "    }\n",
       "\n",
       "    .dataframe thead th {\n",
       "        text-align: right;\n",
       "    }\n",
       "</style>\n",
       "<table border=\"1\" class=\"dataframe\">\n",
       "  <thead>\n",
       "    <tr style=\"text-align: right;\">\n",
       "      <th></th>\n",
       "      <th>subject</th>\n",
       "      <th>comment</th>\n",
       "      <th>label</th>\n",
       "    </tr>\n",
       "  </thead>\n",
       "  <tbody>\n",
       "    <tr>\n",
       "      <td>0</td>\n",
       "      <td>Allen</td>\n",
       "      <td>Good trade. With those extra 2nd round picks t...</td>\n",
       "      <td>3.0</td>\n",
       "    </tr>\n",
       "    <tr>\n",
       "      <td>1</td>\n",
       "      <td>Allen</td>\n",
       "      <td>[**@buffalobills**](https://twitter.com/buffal...</td>\n",
       "      <td>4.0</td>\n",
       "    </tr>\n",
       "    <tr>\n",
       "      <td>2</td>\n",
       "      <td>Allen</td>\n",
       "      <td>Oh well that's not very much.</td>\n",
       "      <td>-1.0</td>\n",
       "    </tr>\n",
       "    <tr>\n",
       "      <td>3</td>\n",
       "      <td>Allen</td>\n",
       "      <td>Damn son.</td>\n",
       "      <td>-1.0</td>\n",
       "    </tr>\n",
       "    <tr>\n",
       "      <td>4</td>\n",
       "      <td>Allen</td>\n",
       "      <td>[](/BUF)Bills receive| [](/TB)Buccaneers recei...</td>\n",
       "      <td>-1.0</td>\n",
       "    </tr>\n",
       "    <tr>\n",
       "      <td>...</td>\n",
       "      <td>...</td>\n",
       "      <td>...</td>\n",
       "      <td>...</td>\n",
       "    </tr>\n",
       "    <tr>\n",
       "      <td>14430</td>\n",
       "      <td>Watson</td>\n",
       "      <td>Lmao what are you talking about</td>\n",
       "      <td>-1.0</td>\n",
       "    </tr>\n",
       "    <tr>\n",
       "      <td>14431</td>\n",
       "      <td>Watson</td>\n",
       "      <td>[deleted]</td>\n",
       "      <td>-1.0</td>\n",
       "    </tr>\n",
       "    <tr>\n",
       "      <td>14432</td>\n",
       "      <td>Watson</td>\n",
       "      <td>Rip Watson</td>\n",
       "      <td>-1.0</td>\n",
       "    </tr>\n",
       "    <tr>\n",
       "      <td>14433</td>\n",
       "      <td>Watson</td>\n",
       "      <td>Sorry JJ Watt, no playoffs for you.</td>\n",
       "      <td>-1.0</td>\n",
       "    </tr>\n",
       "    <tr>\n",
       "      <td>rating</td>\n",
       "      <td>1</td>\n",
       "      <td>1</td>\n",
       "      <td>1.0</td>\n",
       "    </tr>\n",
       "  </tbody>\n",
       "</table>\n",
       "<p>14435 rows × 3 columns</p>\n",
       "</div>"
      ],
      "text/plain": [
       "       subject                                            comment  label\n",
       "0        Allen  Good trade. With those extra 2nd round picks t...    3.0\n",
       "1        Allen  [**@buffalobills**](https://twitter.com/buffal...    4.0\n",
       "2        Allen                      Oh well that's not very much.   -1.0\n",
       "3        Allen                                          Damn son.   -1.0\n",
       "4        Allen  [](/BUF)Bills receive| [](/TB)Buccaneers recei...   -1.0\n",
       "...        ...                                                ...    ...\n",
       "14430   Watson                    Lmao what are you talking about   -1.0\n",
       "14431   Watson                                          [deleted]   -1.0\n",
       "14432   Watson                                        Rip Watson    -1.0\n",
       "14433   Watson                Sorry JJ Watt, no playoffs for you.   -1.0\n",
       "rating       1                                                  1    1.0\n",
       "\n",
       "[14435 rows x 3 columns]"
      ]
     },
     "execution_count": 150,
     "metadata": {},
     "output_type": "execute_result"
    }
   ],
   "source": [
    "test"
   ]
  }
 ],
 "metadata": {
  "kernelspec": {
   "display_name": "Python 3",
   "language": "python",
   "name": "python3"
  },
  "language_info": {
   "codemirror_mode": {
    "name": "ipython",
    "version": 3
   },
   "file_extension": ".py",
   "mimetype": "text/x-python",
   "name": "python",
   "nbconvert_exporter": "python",
   "pygments_lexer": "ipython3",
   "version": "3.7.4"
  }
 },
 "nbformat": 4,
 "nbformat_minor": 2
}

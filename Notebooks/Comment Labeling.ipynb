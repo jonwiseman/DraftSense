{
 "cells": [
  {
   "cell_type": "code",
   "execution_count": 1,
   "metadata": {},
   "outputs": [],
   "source": [
    "import json"
   ]
  },
  {
   "cell_type": "code",
   "execution_count": 2,
   "metadata": {},
   "outputs": [],
   "source": [
    "with open(f'../Data/Threads/Mahomes.json') as f:\n",
    "    comments = json.load(f)"
   ]
  },
  {
   "cell_type": "code",
   "execution_count": 6,
   "metadata": {},
   "outputs": [
    {
     "name": "stdout",
     "output_type": "stream",
     "text": [
      "I go in to every draft expecting the bills to do something stupid... This isn't stupid.\n",
      "It's a fair trade. No one got ripped off.\n",
      "\n",
      "Why the Chiefs felt they had to move up all the way to #10, I'm not sure, but if you're going to move up 17 spots in the 1st round you have to spend some picks to do it.\n",
      "At least the Chiefs moved more than one spot. \n",
      "I feel like a 1st and a 3rd really isn't really crazy to move up 17 spots.\n",
      "\n",
      "I don't know that the player they selected was worth it, but the cost of the pick itself doesn't seem outrageous.\n",
      "Jesus people who don't know draft don't really know that isn't a lot to move up 17 spots in the first round.\n",
      "\n",
      "We also have two third rounders this year.\n",
      "\n",
      "I love it personally.\n",
      "[**@AdamSchefter**](https://twitter.com/AdamSchefter/)\r\n",
      "\r\n",
      "> [2017-04-28 01:14 UTC](https://twitter.com/AdamSchefter/status/857764835257462785)\r\n",
      "\r\n",
      "> KC traded 1 and 3 this year, and its 1 next year to move up to 10.\r\n",
      "\r\n",
      "----\r\n",
      "\r\n",
      "^This ^message ^was ^created ^by ^a ^bot\r\n",
      "\r\n",
      "[^[Contact ^creator]](http://np.reddit.com/message/compose/?to=jasie3k&amp;subject=TweetsInCommentsBot)[^[Source ^code]](https://github.com/janpetryk/reddit-bot)\r\n",
      "\n",
      "Nice 1 Bills\n",
      "WOW\n",
      "Bears shoot themselves in the foot.\n",
      "\n",
      "Chiefs shoot themselves in the foot, shin, thigh and dick.  \n",
      "NOTHING ABOUT THIS COMPUTES\n"
     ]
    }
   ],
   "source": [
    "for item in comments[:10]:\n",
    "    print(item['comment'])"
   ]
  }
 ],
 "metadata": {
  "kernelspec": {
   "display_name": "Python 3",
   "language": "python",
   "name": "python3"
  },
  "language_info": {
   "codemirror_mode": {
    "name": "ipython",
    "version": 3
   },
   "file_extension": ".py",
   "mimetype": "text/x-python",
   "name": "python",
   "nbconvert_exporter": "python",
   "pygments_lexer": "ipython3",
   "version": "3.7.4"
  }
 },
 "nbformat": 4,
 "nbformat_minor": 2
}

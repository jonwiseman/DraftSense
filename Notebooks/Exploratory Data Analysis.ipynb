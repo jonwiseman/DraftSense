{
 "cells": [
  {
   "cell_type": "code",
   "execution_count": 1,
   "metadata": {},
   "outputs": [],
   "source": [
    "import json\n",
    "import pandas as pd\n",
    "import numpy as np\n",
    "import matplotlib.pyplot as plt\n",
    "import seaborn as sns\n",
    "from PIL import Image\n",
    "from wordcloud import WordCloud, STOPWORDS, ImageColorGenerator"
   ]
  },
  {
   "cell_type": "code",
   "execution_count": 2,
   "metadata": {},
   "outputs": [],
   "source": [
    "with open(r'../Data/Dataset/comments.json') as f:       # load comment dataset\n",
    "    comments = json.load(f)\n",
    "\n",
    "df = pd.DataFrame(comments)     # create new DataFrame from comments"
   ]
  },
  {
   "cell_type": "markdown",
   "metadata": {},
   "source": [
    "## Exploring Labels"
   ]
  },
  {
   "cell_type": "code",
   "execution_count": 3,
   "metadata": {},
   "outputs": [
    {
     "data": {
      "text/html": [
       "<div>\n",
       "<style scoped>\n",
       "    .dataframe tbody tr th:only-of-type {\n",
       "        vertical-align: middle;\n",
       "    }\n",
       "\n",
       "    .dataframe tbody tr th {\n",
       "        vertical-align: top;\n",
       "    }\n",
       "\n",
       "    .dataframe thead th {\n",
       "        text-align: right;\n",
       "    }\n",
       "</style>\n",
       "<table border=\"1\" class=\"dataframe\">\n",
       "  <thead>\n",
       "    <tr style=\"text-align: right;\">\n",
       "      <th></th>\n",
       "      <th>subject</th>\n",
       "      <th>comment</th>\n",
       "      <th>label</th>\n",
       "    </tr>\n",
       "  </thead>\n",
       "  <tbody>\n",
       "    <tr>\n",
       "      <td>0</td>\n",
       "      <td>Allen</td>\n",
       "      <td>Good trade. With those extra 2nd round picks t...</td>\n",
       "      <td>4</td>\n",
       "    </tr>\n",
       "    <tr>\n",
       "      <td>1</td>\n",
       "      <td>Allen</td>\n",
       "      <td>@buffalobills  &gt; 2018-04-27 00:52 +00:00  &gt;  T...</td>\n",
       "      <td>4</td>\n",
       "    </tr>\n",
       "    <tr>\n",
       "      <td>2</td>\n",
       "      <td>Allen</td>\n",
       "      <td>Oh well that's not very much.</td>\n",
       "      <td>4</td>\n",
       "    </tr>\n",
       "    <tr>\n",
       "      <td>3</td>\n",
       "      <td>Allen</td>\n",
       "      <td>Damn son.</td>\n",
       "      <td>4</td>\n",
       "    </tr>\n",
       "    <tr>\n",
       "      <td>4</td>\n",
       "      <td>Allen</td>\n",
       "      <td>BUFBills receive|  TBBuccaneers receive ---|-...</td>\n",
       "      <td>4</td>\n",
       "    </tr>\n",
       "  </tbody>\n",
       "</table>\n",
       "</div>"
      ],
      "text/plain": [
       "  subject                                            comment  label\n",
       "0   Allen  Good trade. With those extra 2nd round picks t...      4\n",
       "1   Allen  @buffalobills  > 2018-04-27 00:52 +00:00  >  T...      4\n",
       "2   Allen                      Oh well that's not very much.      4\n",
       "3   Allen                                          Damn son.      4\n",
       "4   Allen   BUFBills receive|  TBBuccaneers receive ---|-...      4"
      ]
     },
     "execution_count": 3,
     "metadata": {},
     "output_type": "execute_result"
    }
   ],
   "source": [
    "df.head()"
   ]
  },
  {
   "cell_type": "markdown",
   "metadata": {},
   "source": [
    "DataFrame structure: index, subject (i.e. which quarterback is being discussed), comment text, and label.  Let's explore the distribution of labels:"
   ]
  },
  {
   "cell_type": "code",
   "execution_count": 4,
   "metadata": {},
   "outputs": [
    {
     "data": {
      "text/plain": [
       "<matplotlib.axes._subplots.AxesSubplot at 0x276ba54ba48>"
      ]
     },
     "execution_count": 4,
     "metadata": {},
     "output_type": "execute_result"
    },
    {
     "data": {
      "image/png": "[encoded data removed]",
      "text/plain": [
       "<Figure size 432x288 with 1 Axes>"
      ]
     },
     "metadata": {
      "needs_background": "light"
     },
     "output_type": "display_data"
    }
   ],
   "source": [
    "sns.countplot(df['label'])"
   ]
  },
  {
   "cell_type": "code",
   "execution_count": 5,
   "metadata": {},
   "outputs": [
    {
     "data": {
      "text/plain": [
       "4    7131\n",
       "3    3035\n",
       "2    2652\n",
       "1    1616\n",
       "Name: label, dtype: int64"
      ]
     },
     "execution_count": 5,
     "metadata": {},
     "output_type": "execute_result"
    }
   ],
   "source": [
    "df['label'].value_counts()"
   ]
  },
  {
   "cell_type": "markdown",
   "metadata": {},
   "source": [
    "Label structure is as follows:  \n",
    "\n",
    "1: positive reaction  \n",
    "2: negative reaction  \n",
    "3: joke or meme  \n",
    "4: irrelevant\n",
    "\n",
    "Let's explore each label in depth."
   ]
  },
  {
   "cell_type": "markdown",
   "metadata": {},
   "source": [
    "**Positive Comments**"
   ]
  },
  {
   "cell_type": "code",
   "execution_count": 6,
   "metadata": {},
   "outputs": [],
   "source": [
    "positives = df[df['label'] == 1]"
   ]
  },
  {
   "cell_type": "code",
   "execution_count": 7,
   "metadata": {},
   "outputs": [
    {
     "data": {
      "text/html": [
       "<div>\n",
       "<style scoped>\n",
       "    .dataframe tbody tr th:only-of-type {\n",
       "        vertical-align: middle;\n",
       "    }\n",
       "\n",
       "    .dataframe tbody tr th {\n",
       "        vertical-align: top;\n",
       "    }\n",
       "\n",
       "    .dataframe thead th {\n",
       "        text-align: right;\n",
       "    }\n",
       "</style>\n",
       "<table border=\"1\" class=\"dataframe\">\n",
       "  <thead>\n",
       "    <tr style=\"text-align: right;\">\n",
       "      <th></th>\n",
       "      <th>subject</th>\n",
       "      <th>comment</th>\n",
       "      <th>label</th>\n",
       "    </tr>\n",
       "  </thead>\n",
       "  <tbody>\n",
       "    <tr>\n",
       "      <td>22</td>\n",
       "      <td>Allen</td>\n",
       "      <td>I think its a great pick at 7</td>\n",
       "      <td>1</td>\n",
       "    </tr>\n",
       "    <tr>\n",
       "      <td>27</td>\n",
       "      <td>Allen</td>\n",
       "      <td>I'd go for steal tbh</td>\n",
       "      <td>1</td>\n",
       "    </tr>\n",
       "    <tr>\n",
       "      <td>28</td>\n",
       "      <td>Allen</td>\n",
       "      <td>Best QB in the draft by far</td>\n",
       "      <td>1</td>\n",
       "    </tr>\n",
       "    <tr>\n",
       "      <td>29</td>\n",
       "      <td>Allen</td>\n",
       "      <td>Yes</td>\n",
       "      <td>1</td>\n",
       "    </tr>\n",
       "    <tr>\n",
       "      <td>35</td>\n",
       "      <td>Allen</td>\n",
       "      <td>I'm glad the Bills got him. I was afraid Elway...</td>\n",
       "      <td>1</td>\n",
       "    </tr>\n",
       "  </tbody>\n",
       "</table>\n",
       "</div>"
      ],
      "text/plain": [
       "   subject                                            comment  label\n",
       "22   Allen                      I think its a great pick at 7      1\n",
       "27   Allen                               I'd go for steal tbh      1\n",
       "28   Allen                        Best QB in the draft by far      1\n",
       "29   Allen                                                Yes      1\n",
       "35   Allen  I'm glad the Bills got him. I was afraid Elway...      1"
      ]
     },
     "execution_count": 7,
     "metadata": {},
     "output_type": "execute_result"
    }
   ],
   "source": [
    "positives.head()"
   ]
  },
  {
   "cell_type": "code",
   "execution_count": 8,
   "metadata": {},
   "outputs": [],
   "source": [
    "pos_text = ' '.join(list(positives['comment']))"
   ]
  },
  {
   "cell_type": "code",
   "execution_count": 9,
   "metadata": {},
   "outputs": [],
   "source": [
    "wordcloud = WordCloud(max_words=30, background_color='white', width=1000, height=500,\n",
    "                                  colormap='coolwarm').generate(pos_text)"
   ]
  },
  {
   "cell_type": "code",
   "execution_count": 10,
   "metadata": {},
   "outputs": [
    {
     "data": {
      "text/plain": [
       "<matplotlib.image.AxesImage at 0x276bbea9d48>"
      ]
     },
     "execution_count": 10,
     "metadata": {},
     "output_type": "execute_result"
    },
    {
     "data": {
      "image/png": "[encoded data removed]",
      "text/plain": [
       "<Figure size 432x288 with 1 Axes>"
      ]
     },
     "metadata": {
      "needs_background": "light"
     },
     "output_type": "display_data"
    }
   ],
   "source": [
    "plt.imshow(wordcloud)"
   ]
  },
  {
   "cell_type": "markdown",
   "metadata": {},
   "source": [
    "There are some interesting trends here:  \n",
    "\n",
    "(1) There are a lot of evaluation words: good, best, great, happy  \n",
    "(2) There are a lot of very specific terms/lingo: steal (a good price for a pick), QB, trade (probably assessing the value of a trade up to draft a quarterback)  \n",
    "(3) Words about the future: gonna, go, will  \n",
    "(4) A couple of specific names: Brown (the Cleveland Browns), Watson (Deshaun Watson)  \n",
    "(5) One expletive  \n",
    "\n",
    "Let's see who got the most positive comments:"
   ]
  },
  {
   "cell_type": "code",
   "execution_count": 11,
   "metadata": {},
   "outputs": [
    {
     "data": {
      "text/plain": [
       "Watson      250\n",
       "Rosen       241\n",
       "Haskins     175\n",
       "Jackson     147\n",
       "Darnold     133\n",
       "Mayfield    126\n",
       "Trubisky    107\n",
       "Kizer       105\n",
       "Mahomes      98\n",
       "Jones        92\n",
       "Murray       87\n",
       "Allen        55\n",
       "Name: subject, dtype: int64"
      ]
     },
     "execution_count": 11,
     "metadata": {},
     "output_type": "execute_result"
    }
   ],
   "source": [
    "df[df['label'] == 1]['subject'].value_counts()"
   ]
  },
  {
   "cell_type": "markdown",
   "metadata": {},
   "source": [
    "Deshaun Watson and Josh Rosen were the most positively reviewed draftees!"
   ]
  },
  {
   "cell_type": "markdown",
   "metadata": {},
   "source": [
    "**Negative Comments**"
   ]
  },
  {
   "cell_type": "code",
   "execution_count": 12,
   "metadata": {},
   "outputs": [],
   "source": [
    "negatives = df[df['label'] == 2]"
   ]
  },
  {
   "cell_type": "code",
   "execution_count": 13,
   "metadata": {},
   "outputs": [
    {
     "data": {
      "text/html": [
       "<div>\n",
       "<style scoped>\n",
       "    .dataframe tbody tr th:only-of-type {\n",
       "        vertical-align: middle;\n",
       "    }\n",
       "\n",
       "    .dataframe tbody tr th {\n",
       "        vertical-align: top;\n",
       "    }\n",
       "\n",
       "    .dataframe thead th {\n",
       "        text-align: right;\n",
       "    }\n",
       "</style>\n",
       "<table border=\"1\" class=\"dataframe\">\n",
       "  <thead>\n",
       "    <tr style=\"text-align: right;\">\n",
       "      <th></th>\n",
       "      <th>subject</th>\n",
       "      <th>comment</th>\n",
       "      <th>label</th>\n",
       "    </tr>\n",
       "  </thead>\n",
       "  <tbody>\n",
       "    <tr>\n",
       "      <td>5</td>\n",
       "      <td>Allen</td>\n",
       "      <td>Lol</td>\n",
       "      <td>2</td>\n",
       "    </tr>\n",
       "    <tr>\n",
       "      <td>18</td>\n",
       "      <td>Allen</td>\n",
       "      <td>With Rosen still on the board I gotta think th...</td>\n",
       "      <td>2</td>\n",
       "    </tr>\n",
       "    <tr>\n",
       "      <td>21</td>\n",
       "      <td>Allen</td>\n",
       "      <td>mistake</td>\n",
       "      <td>2</td>\n",
       "    </tr>\n",
       "    <tr>\n",
       "      <td>23</td>\n",
       "      <td>Allen</td>\n",
       "      <td>I am; mistake lol</td>\n",
       "      <td>2</td>\n",
       "    </tr>\n",
       "    <tr>\n",
       "      <td>32</td>\n",
       "      <td>Allen</td>\n",
       "      <td>I'm leaning towards big mistake. I would have ...</td>\n",
       "      <td>2</td>\n",
       "    </tr>\n",
       "  </tbody>\n",
       "</table>\n",
       "</div>"
      ],
      "text/plain": [
       "   subject                                            comment  label\n",
       "5    Allen                                                Lol      2\n",
       "18   Allen  With Rosen still on the board I gotta think th...      2\n",
       "21   Allen                                            mistake      2\n",
       "23   Allen                                  I am; mistake lol      2\n",
       "32   Allen  I'm leaning towards big mistake. I would have ...      2"
      ]
     },
     "execution_count": 13,
     "metadata": {},
     "output_type": "execute_result"
    }
   ],
   "source": [
    "negatives.head()"
   ]
  },
  {
   "cell_type": "code",
   "execution_count": 14,
   "metadata": {},
   "outputs": [],
   "source": [
    "neg_text = ' '.join(list(negatives['comment']))"
   ]
  },
  {
   "cell_type": "code",
   "execution_count": 15,
   "metadata": {},
   "outputs": [],
   "source": [
    "wordcloud = WordCloud(max_words=30, background_color='white', width=1000, height=500,\n",
    "                                  colormap='coolwarm').generate(neg_text)"
   ]
  },
  {
   "cell_type": "code",
   "execution_count": 16,
   "metadata": {},
   "outputs": [
    {
     "data": {
      "text/plain": [
       "<matplotlib.image.AxesImage at 0x276bc106e08>"
      ]
     },
     "execution_count": 16,
     "metadata": {},
     "output_type": "execute_result"
    },
    {
     "data": {
      "image/png": "[encoded data removed]",
      "text/plain": [
       "<Figure size 432x288 with 1 Axes>"
      ]
     },
     "metadata": {
      "needs_background": "light"
     },
     "output_type": "display_data"
    }
   ],
   "source": [
    "plt.imshow(wordcloud)"
   ]
  },
  {
   "cell_type": "markdown",
   "metadata": {},
   "source": [
    "Wow, lots of profanity!  This is useful, since it expresses a clear emotion: anger.  There are also some interesting words, like \"bust,\" \"bad,\" \"wow,\" and \"oh.\"  A lot of these work as single-word reactions to draft picks.  Let's look at how the length of the comments varies between positive and negative comments:"
   ]
  },
  {
   "cell_type": "code",
   "execution_count": 17,
   "metadata": {},
   "outputs": [
    {
     "name": "stdout",
     "output_type": "stream",
     "text": [
      "26305\n",
      "24718\n"
     ]
    }
   ],
   "source": [
    "print(len(pos_text.split(' ')))\n",
    "print(len(neg_text.split(' ')))"
   ]
  },
  {
   "cell_type": "markdown",
   "metadata": {},
   "source": [
    "There are more total words in positive comments than negative comments!  Let's look at the average length of each comment for positive and negative comments:"
   ]
  },
  {
   "cell_type": "code",
   "execution_count": 18,
   "metadata": {},
   "outputs": [],
   "source": [
    "pos_lengths = []\n",
    "neg_lengths = []\n",
    "\n",
    "for comment in positives['comment']:\n",
    "    pos_lengths.append(len(comment.split(' ')))\n",
    "    \n",
    "for comment in negatives['comment']:\n",
    "    neg_lengths.append(len(comment.split(' ')))"
   ]
  },
  {
   "cell_type": "code",
   "execution_count": 19,
   "metadata": {},
   "outputs": [
    {
     "data": {
      "text/plain": [
       "<BarContainer object of 2 artists>"
      ]
     },
     "execution_count": 19,
     "metadata": {},
     "output_type": "execute_result"
    },
    {
     "data": {
      "image/png": "[encoded data removed]",
      "text/plain": [
       "<Figure size 432x288 with 1 Axes>"
      ]
     },
     "metadata": {
      "needs_background": "light"
     },
     "output_type": "display_data"
    }
   ],
   "source": [
    "plt.title('Average length of comments by type')\n",
    "plt.bar(['Positive Comments', 'Negative Comments'],[np.average(pos_lengths), np.average(neg_lengths)])"
   ]
  },
  {
   "cell_type": "markdown",
   "metadata": {},
   "source": [
    "On average, positive comment are significantly longer than negative comments!  It appears that most negative comments are simple reactions!  Let's explore negative comments that are one word in length:"
   ]
  },
  {
   "cell_type": "code",
   "execution_count": 33,
   "metadata": {},
   "outputs": [
    {
     "name": "stdout",
     "output_type": "stream",
     "text": [
      "764\n"
     ]
    }
   ],
   "source": [
    "one_word_comments = []\n",
    "\n",
    "for comment in negatives['comment']:\n",
    "    if len(comment.split(' ')) == 1:\n",
    "        one_word_comments.append(comment)\n",
    "        \n",
    "print(len(one_word_comments))"
   ]
  },
  {
   "cell_type": "markdown",
   "metadata": {},
   "source": [
    "There are 764 one-word negative comments.  Let's dig a bit deeper and make a word cloud:"
   ]
  },
  {
   "cell_type": "code",
   "execution_count": 34,
   "metadata": {},
   "outputs": [],
   "source": [
    "one_word_text = ' '.join(one_word_comments)"
   ]
  },
  {
   "cell_type": "code",
   "execution_count": 35,
   "metadata": {},
   "outputs": [],
   "source": [
    "wordcloud = WordCloud(max_words=30, background_color='white', width=1000, height=500,\n",
    "                                  colormap='coolwarm').generate(one_word_text)"
   ]
  },
  {
   "cell_type": "code",
   "execution_count": 36,
   "metadata": {},
   "outputs": [
    {
     "data": {
      "text/plain": [
       "<matplotlib.image.AxesImage at 0x276bbff4308>"
      ]
     },
     "execution_count": 36,
     "metadata": {},
     "output_type": "execute_result"
    },
    {
     "data": {
      "image/png": "[encoded data removed]",
      "text/plain": [
       "<Figure size 432x288 with 1 Axes>"
      ]
     },
     "metadata": {
      "needs_background": "light"
     },
     "output_type": "display_data"
    }
   ],
   "source": [
    "plt.imshow(wordcloud)"
   ]
  },
  {
   "cell_type": "markdown",
   "metadata": {},
   "source": [
    "Lots of these one-word comments have to do with laughing: \"haha\"s, \"lmao,\" \"lmfao,\" \"lol,\" etc.  Lots also have to do with astonishment: \"wtf,\" \"bruh,\" \"wat,\" \"yikes,\" \"wut.\"  Consolidating a lot of these comments into a standard form will be essential to producing a robust model!\n"
   ]
  },
  {
   "cell_type": "markdown",
   "metadata": {},
   "source": [
    "**Consolidating One-Word Comments**"
   ]
  },
  {
   "cell_type": "markdown",
   "metadata": {},
   "source": [
    "Let's make an effort to consolidate these one-word comments and see what we get!  Let's start by seeing how many different one-word comments we really have.  \n",
    "\n",
    "We start by making everything lowercase:"
   ]
  },
  {
   "cell_type": "code",
   "execution_count": 37,
   "metadata": {},
   "outputs": [],
   "source": [
    "one_word_comments = [str.lower(x) for x in one_word_comments]"
   ]
  },
  {
   "cell_type": "code",
   "execution_count": 38,
   "metadata": {},
   "outputs": [
    {
     "data": {
      "text/plain": [
       "291"
      ]
     },
     "execution_count": 38,
     "metadata": {},
     "output_type": "execute_result"
    }
   ],
   "source": [
    "pd.DataFrame(one_word_comments, columns=['text'])['text'].nunique()"
   ]
  },
  {
   "cell_type": "markdown",
   "metadata": {},
   "source": [
    "There are 291 unique one-word comments.  Let's try and reduce this!  Let's start by cutting down words that have repeated letters (like looooool, hahahahahahaha, and lmaooooooo):"
   ]
  },
  {
   "cell_type": "code",
   "execution_count": 39,
   "metadata": {},
   "outputs": [],
   "source": [
    "import re"
   ]
  },
  {
   "cell_type": "code",
   "execution_count": 40,
   "metadata": {},
   "outputs": [],
   "source": [
    "def clean_text(text):\n",
    "    cleaned = re.sub(r'lo[o]*l[l]*([o]+|[l]+)+', 'lol', text)\n",
    "    cleaned = re.sub(r'lo[o]+l', 'lol', cleaned)\n",
    "    cleaned = re.sub(r'lol[a-z]+', 'lol', cleaned)\n",
    "    cleaned = re.sub(r'l[e]+[l]', 'lol', cleaned)\n",
    "    cleaned = re.sub(r'rofl[rofl]+', 'rofl', cleaned)\n",
    "    \n",
    "    cleaned = re.sub(r'lm[m]*[f]*a[a]*[o]+', 'lmao', cleaned)\n",
    "    \n",
    "    cleaned = re.sub(r'[b]*[w]*[a]*haha([a]+|[h]+)+', 'haha', cleaned)\n",
    "    \n",
    "    cleaned = re.sub(r'w(u|a)[t]+', 'what', cleaned)\n",
    "    cleaned = re.sub(r'wh[h]*a[a]*t[t]*', 'what', cleaned)\n",
    "    \n",
    "    cleaned = re.sub('ew[w]+', 'ew', cleaned)\n",
    "    cleaned = re.sub('ugh[h]+', 'ugh', cleaned)\n",
    "    \n",
    "    cleaned = re.sub('boo[o]+', 'boo', cleaned)\n",
    "    \n",
    "    cleaned = re.sub('f[f]*u[u]*c[c]*k[k]*', 'fuck', cleaned)\n",
    "    \n",
    "    cleaned = re.sub('oh[h]+', 'oh', cleaned)\n",
    "    cleaned = re.sub('uh[h]+', 'uh', cleaned)\n",
    "    cleaned = re.sub('a[a]*h[h]*', 'ah', cleaned)\n",
    "    \n",
    "    cleaned = re.sub('wt[t]*f[f]*', 'wtf', cleaned)\n",
    "    \n",
    "    cleaned = re.sub('wo[o]*w[w]*', 'wow', cleaned)\n",
    "    \n",
    "    cleaned = re.sub('no[o]+', 'no', cleaned)\n",
    "    cleaned = re.sub('no[no]+', 'no', cleaned)\n",
    "    \n",
    "    cleaned = re.sub('oo[o]*ps[s]*', 'oops', cleaned)\n",
    "    \n",
    "    cleaned = re.sub('bu[u]*s[s]*t[t]*', 'bust', cleaned)\n",
    "    \n",
    "    return cleaned"
   ]
  },
  {
   "cell_type": "code",
   "execution_count": 41,
   "metadata": {},
   "outputs": [],
   "source": [
    "one_word_comments = [clean_text(x) for x in one_word_comments]"
   ]
  },
  {
   "cell_type": "code",
   "execution_count": 42,
   "metadata": {},
   "outputs": [
    {
     "data": {
      "text/plain": [
       "146"
      ]
     },
     "execution_count": 42,
     "metadata": {},
     "output_type": "execute_result"
    }
   ],
   "source": [
    "pd.DataFrame(one_word_comments, columns=['text'])['text'].nunique()"
   ]
  },
  {
   "cell_type": "markdown",
   "metadata": {},
   "source": [
    "Let's visualize this once again:"
   ]
  },
  {
   "cell_type": "code",
   "execution_count": 116,
   "metadata": {},
   "outputs": [],
   "source": [
    "one_word_text = ' '.join(one_word_comments)"
   ]
  },
  {
   "cell_type": "code",
   "execution_count": 117,
   "metadata": {},
   "outputs": [],
   "source": [
    "wordcloud = WordCloud(max_words=30, background_color='white', width=1000, height=500,\n",
    "                                  colormap='coolwarm').generate(one_word_text)"
   ]
  },
  {
   "cell_type": "code",
   "execution_count": 118,
   "metadata": {},
   "outputs": [
    {
     "data": {
      "text/plain": [
       "<matplotlib.image.AxesImage at 0x18d06008308>"
      ]
     },
     "execution_count": 118,
     "metadata": {},
     "output_type": "execute_result"
    },
    {
     "data": {
      "image/png": "[encoded data removed]",
      "text/plain": [
       "<Figure size 432x288 with 1 Axes>"
      ]
     },
     "metadata": {
      "needs_background": "light"
     },
     "output_type": "display_data"
    }
   ],
   "source": [
    "plt.imshow(wordcloud)"
   ]
  },
  {
   "cell_type": "markdown",
   "metadata": {},
   "source": [
    "Fantastic!  We cut down the number of unique comments to 139.  Finally, let's look at who got the most hate from r/NFL users:"
   ]
  },
  {
   "cell_type": "code",
   "execution_count": 61,
   "metadata": {},
   "outputs": [
    {
     "data": {
      "text/plain": [
       "Jones       879\n",
       "Trubisky    611\n",
       "Murray      240\n",
       "Mayfield    216\n",
       "Mahomes     213\n",
       "Allen       161\n",
       "Haskins      65\n",
       "Watson       63\n",
       "Jackson      60\n",
       "Darnold      58\n",
       "Kizer        52\n",
       "Rosen        34\n",
       "Name: subject, dtype: int64"
      ]
     },
     "execution_count": 61,
     "metadata": {},
     "output_type": "execute_result"
    }
   ],
   "source": [
    "df[df['label'] == 2]['subject'].value_counts()"
   ]
  },
  {
   "cell_type": "markdown",
   "metadata": {},
   "source": [
    "Daniel Jones and Mitchell Trubisky were the players most hated by r/NFL!"
   ]
  },
  {
   "cell_type": "markdown",
   "metadata": {},
   "source": [
    "**Joke Comments**"
   ]
  },
  {
   "cell_type": "markdown",
   "metadata": {},
   "source": [
    "Let's explore a bit about joke comments:"
   ]
  },
  {
   "cell_type": "code",
   "execution_count": 54,
   "metadata": {},
   "outputs": [],
   "source": [
    "jokes = df[df['label'] == 3]"
   ]
  },
  {
   "cell_type": "code",
   "execution_count": 55,
   "metadata": {},
   "outputs": [
    {
     "data": {
      "text/html": [
       "<div>\n",
       "<style scoped>\n",
       "    .dataframe tbody tr th:only-of-type {\n",
       "        vertical-align: middle;\n",
       "    }\n",
       "\n",
       "    .dataframe tbody tr th {\n",
       "        vertical-align: top;\n",
       "    }\n",
       "\n",
       "    .dataframe thead th {\n",
       "        text-align: right;\n",
       "    }\n",
       "</style>\n",
       "<table border=\"1\" class=\"dataframe\">\n",
       "  <thead>\n",
       "    <tr style=\"text-align: right;\">\n",
       "      <th></th>\n",
       "      <th>subject</th>\n",
       "      <th>comment</th>\n",
       "      <th>label</th>\n",
       "    </tr>\n",
       "  </thead>\n",
       "  <tbody>\n",
       "    <tr>\n",
       "      <td>6</td>\n",
       "      <td>Allen</td>\n",
       "      <td>“let’s draft josh”  “which one”  “idk let’s se...</td>\n",
       "      <td>3</td>\n",
       "    </tr>\n",
       "    <tr>\n",
       "      <td>8</td>\n",
       "      <td>Allen</td>\n",
       "      <td>cant believe they did it. big night for the PM...</td>\n",
       "      <td>3</td>\n",
       "    </tr>\n",
       "    <tr>\n",
       "      <td>13</td>\n",
       "      <td>Allen</td>\n",
       "      <td>Accept Sonic.</td>\n",
       "      <td>3</td>\n",
       "    </tr>\n",
       "    <tr>\n",
       "      <td>14</td>\n",
       "      <td>Allen</td>\n",
       "      <td>Nobody showed up to Josh Rosen's birthday party</td>\n",
       "      <td>3</td>\n",
       "    </tr>\n",
       "    <tr>\n",
       "      <td>17</td>\n",
       "      <td>Allen</td>\n",
       "      <td>Josh Allen will either be very good or very ba...</td>\n",
       "      <td>3</td>\n",
       "    </tr>\n",
       "  </tbody>\n",
       "</table>\n",
       "</div>"
      ],
      "text/plain": [
       "   subject                                            comment  label\n",
       "6    Allen  “let’s draft josh”  “which one”  “idk let’s se...      3\n",
       "8    Allen  cant believe they did it. big night for the PM...      3\n",
       "13   Allen                                     Accept Sonic.       3\n",
       "14   Allen    Nobody showed up to Josh Rosen's birthday party      3\n",
       "17   Allen  Josh Allen will either be very good or very ba...      3"
      ]
     },
     "execution_count": 55,
     "metadata": {},
     "output_type": "execute_result"
    }
   ],
   "source": [
    "jokes.head()"
   ]
  },
  {
   "cell_type": "code",
   "execution_count": 56,
   "metadata": {},
   "outputs": [],
   "source": [
    "joke_text = ' '.join(list(jokes['comment']))"
   ]
  },
  {
   "cell_type": "code",
   "execution_count": 57,
   "metadata": {},
   "outputs": [],
   "source": [
    "wordcloud = WordCloud(max_words=30, background_color='white', width=1000, height=500,\n",
    "                                  colormap='coolwarm').generate(joke_text)"
   ]
  },
  {
   "cell_type": "code",
   "execution_count": 58,
   "metadata": {},
   "outputs": [
    {
     "data": {
      "text/plain": [
       "<matplotlib.image.AxesImage at 0x1eab8636088>"
      ]
     },
     "execution_count": 58,
     "metadata": {},
     "output_type": "execute_result"
    },
    {
     "data": {
      "image/png": "[encoded data removed]",
      "text/plain": [
       "<Figure size 432x288 with 1 Axes>"
      ]
     },
     "metadata": {
      "needs_background": "light"
     },
     "output_type": "display_data"
    }
   ],
   "source": [
    "plt.imshow(wordcloud)"
   ]
  },
  {
   "cell_type": "markdown",
   "metadata": {},
   "source": [
    "One very noticable combination is \"Hee hee.\"  This is a joke relating to Baker Mayfield when he visited Cleveland's practice facilities (you can read about the origin of the meme [here](https://www.sbnation.com/2018/4/26/17288584/browns-baker-mayfield-pied-piper-hee-hee-hue-jackson)).  Let's see which player got the most joke comments:"
   ]
  },
  {
   "cell_type": "code",
   "execution_count": 59,
   "metadata": {},
   "outputs": [
    {
     "data": {
      "text/plain": [
       "Jones       794\n",
       "Mayfield    421\n",
       "Murray      373\n",
       "Trubisky    282\n",
       "Jackson     245\n",
       "Haskins     184\n",
       "Mahomes     170\n",
       "Watson      139\n",
       "Allen       122\n",
       "Rosen       120\n",
       "Darnold     113\n",
       "Kizer        72\n",
       "Name: subject, dtype: int64"
      ]
     },
     "execution_count": 59,
     "metadata": {},
     "output_type": "execute_result"
    }
   ],
   "source": [
    "df[df['label'] == 3]['subject'].value_counts()"
   ]
  },
  {
   "cell_type": "markdown",
   "metadata": {},
   "source": [
    "Daniel Jones got the most joke comments (probably why \"Eli,\" referring to Eli Manning, shows up in the word cloud).  There were a lot of jokes that Daniel Jones looks a lot like Eli Manning, hence all the joke comments.  Baker Mayfield, with the \"Hee Hee\" meme appears next.  DeShone Kizer, interestingly enough, got very few joke comments."
   ]
  },
  {
   "cell_type": "markdown",
   "metadata": {},
   "source": [
    "**Irrelevant Comments**"
   ]
  },
  {
   "cell_type": "markdown",
   "metadata": {},
   "source": [
    "Unfortunately, irrelevant/off topic comments made up the majority of the comments scraped.  Let's look at why that happened:"
   ]
  },
  {
   "cell_type": "code",
   "execution_count": 62,
   "metadata": {},
   "outputs": [],
   "source": [
    "off_topic = df[df['label'] == 4]"
   ]
  },
  {
   "cell_type": "code",
   "execution_count": 63,
   "metadata": {},
   "outputs": [
    {
     "data": {
      "text/html": [
       "<div>\n",
       "<style scoped>\n",
       "    .dataframe tbody tr th:only-of-type {\n",
       "        vertical-align: middle;\n",
       "    }\n",
       "\n",
       "    .dataframe tbody tr th {\n",
       "        vertical-align: top;\n",
       "    }\n",
       "\n",
       "    .dataframe thead th {\n",
       "        text-align: right;\n",
       "    }\n",
       "</style>\n",
       "<table border=\"1\" class=\"dataframe\">\n",
       "  <thead>\n",
       "    <tr style=\"text-align: right;\">\n",
       "      <th></th>\n",
       "      <th>subject</th>\n",
       "      <th>comment</th>\n",
       "      <th>label</th>\n",
       "    </tr>\n",
       "  </thead>\n",
       "  <tbody>\n",
       "    <tr>\n",
       "      <td>0</td>\n",
       "      <td>Allen</td>\n",
       "      <td>Good trade. With those extra 2nd round picks t...</td>\n",
       "      <td>4</td>\n",
       "    </tr>\n",
       "    <tr>\n",
       "      <td>1</td>\n",
       "      <td>Allen</td>\n",
       "      <td>@buffalobills  &gt; 2018-04-27 00:52 +00:00  &gt;  T...</td>\n",
       "      <td>4</td>\n",
       "    </tr>\n",
       "    <tr>\n",
       "      <td>2</td>\n",
       "      <td>Allen</td>\n",
       "      <td>Oh well that's not very much.</td>\n",
       "      <td>4</td>\n",
       "    </tr>\n",
       "    <tr>\n",
       "      <td>3</td>\n",
       "      <td>Allen</td>\n",
       "      <td>Damn son.</td>\n",
       "      <td>4</td>\n",
       "    </tr>\n",
       "    <tr>\n",
       "      <td>4</td>\n",
       "      <td>Allen</td>\n",
       "      <td>BUFBills receive|  TBBuccaneers receive ---|-...</td>\n",
       "      <td>4</td>\n",
       "    </tr>\n",
       "  </tbody>\n",
       "</table>\n",
       "</div>"
      ],
      "text/plain": [
       "  subject                                            comment  label\n",
       "0   Allen  Good trade. With those extra 2nd round picks t...      4\n",
       "1   Allen  @buffalobills  > 2018-04-27 00:52 +00:00  >  T...      4\n",
       "2   Allen                      Oh well that's not very much.      4\n",
       "3   Allen                                          Damn son.      4\n",
       "4   Allen   BUFBills receive|  TBBuccaneers receive ---|-...      4"
      ]
     },
     "execution_count": 63,
     "metadata": {},
     "output_type": "execute_result"
    }
   ],
   "source": [
    "off_topic.head()"
   ]
  },
  {
   "cell_type": "code",
   "execution_count": 64,
   "metadata": {},
   "outputs": [],
   "source": [
    "irr_text = ' '.join(list(off_topic['comment']))"
   ]
  },
  {
   "cell_type": "code",
   "execution_count": 65,
   "metadata": {},
   "outputs": [],
   "source": [
    "wordcloud = WordCloud(max_words=30, background_color='white', width=1000, height=500,\n",
    "                                  colormap='coolwarm').generate(irr_text)"
   ]
  },
  {
   "cell_type": "code",
   "execution_count": 66,
   "metadata": {},
   "outputs": [
    {
     "data": {
      "text/plain": [
       "<matplotlib.image.AxesImage at 0x1eab93b5148>"
      ]
     },
     "execution_count": 66,
     "metadata": {},
     "output_type": "execute_result"
    },
    {
     "data": {
      "image/png": "[encoded data removed]",
      "text/plain": [
       "<Figure size 432x288 with 1 Axes>"
      ]
     },
     "metadata": {
      "needs_background": "light"
     },
     "output_type": "display_data"
    }
   ],
   "source": [
    "plt.imshow(wordcloud)"
   ]
  },
  {
   "cell_type": "markdown",
   "metadata": {},
   "source": [
    "A couple of things to note:\n",
    "\n",
    "(1) deleted comments were considered off-topic  \n",
    "(2) Lots of specific names: \"Brown,\" \"Rosen,\" \"Giant,\" \"Bear.\"  Most of these comments dealt with teams other than the one to which a draftee was selected (ex. many Josh Rosen comments talked about other teams that DIDN'T draft him).  \n",
    "(3) Lots of thoughts: \"think,\" \"now\" (i.e. what will happen next in the draft), \"take\" (as in which player will be taken next), \"will\" (what will happen next), \"know\" (we don't know), \"still\" (as in player X is still in the draft)  \n",
    "(4) Asking for fan reactions: \"Giants fans, how do you feel about this pick?\"  \n",
    "(5) LOTS of trade talk: reactions to trades rather than the draft picks.  For example, many teams traded up to get quarterbacks: the fans love the players, but hate how much was sacrificed in trades to get a higher pick spot; this is not a reaction to the player, but to team strategy.  \n",
    "(6) \"draft:\" reactions to the draft as a whole were comment (i.e. \"this draft is wild!\").\n",
    "\n",
    "Let's look at who got the most irrelevant comments:"
   ]
  },
  {
   "cell_type": "code",
   "execution_count": 67,
   "metadata": {},
   "outputs": [
    {
     "data": {
      "text/plain": [
       "Jones       1400\n",
       "Trubisky     945\n",
       "Murray       871\n",
       "Mayfield     618\n",
       "Haskins      524\n",
       "Mahomes      478\n",
       "Watson       458\n",
       "Jackson      437\n",
       "Allen        428\n",
       "Kizer        360\n",
       "Darnold      333\n",
       "Rosen        279\n",
       "Name: subject, dtype: int64"
      ]
     },
     "execution_count": 67,
     "metadata": {},
     "output_type": "execute_result"
    }
   ],
   "source": [
    "df[df['label'] == 4]['subject'].value_counts()"
   ]
  }
 ],
 "metadata": {
  "kernelspec": {
   "display_name": "Python 3",
   "language": "python",
   "name": "python3"
  },
  "language_info": {
   "codemirror_mode": {
    "name": "ipython",
    "version": 3
   },
   "file_extension": ".py",
   "mimetype": "text/x-python",
   "name": "python",
   "nbconvert_exporter": "python",
   "pygments_lexer": "ipython3",
   "version": "3.7.4"
  }
 },
 "nbformat": 4,
 "nbformat_minor": 2
}

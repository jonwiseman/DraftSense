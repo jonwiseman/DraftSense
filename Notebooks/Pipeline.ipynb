{
 "cells": [
  {
   "cell_type": "code",
   "execution_count": 88,
   "metadata": {},
   "outputs": [],
   "source": [
    "import json\n",
    "import pickle\n",
    "import spacy\n",
    "from spacy.pipeline import EntityRuler\n",
    "from spacy.tokens import Doc, Span, Token\n",
    "from spacy.symbols import nsubj, dobj\n",
    "import neuralcoref\n",
    "import pandas as pd"
   ]
  },
  {
   "cell_type": "markdown",
   "metadata": {},
   "source": [
    "## Create spaCy Model and Lexicon"
   ]
  },
  {
   "cell_type": "code",
   "execution_count": 3,
   "metadata": {},
   "outputs": [],
   "source": [
    "nlp = spacy.load(\"en_core_web_lg\")"
   ]
  },
  {
   "cell_type": "code",
   "execution_count": 5,
   "metadata": {},
   "outputs": [],
   "source": [
    "lexicon = pd.read_csv('/home/jon/Desktop/thesis/nfl.tsv', sep='\\t', header=None, names=['word', 'rating', 'std'])\n",
    "lexicon.drop('std', axis = 1, inplace = True)\n",
    "\n",
    "for i in range(len(lexicon)):\n",
    "    word = lexicon.iloc[i]['word']\n",
    "    doc = nlp(word)\n",
    "    lexicon.at[i, 'word'] = doc[0].lemma_"
   ]
  },
  {
   "cell_type": "code",
   "execution_count": 9,
   "metadata": {},
   "outputs": [],
   "source": [
    "lexicon = lexicon.set_index(keys='word')\n",
    "lexicon = lexicon.loc[~lexicon.index.duplicated(keep='first')]\n",
    "lexicon = lexicon.to_dict('index')\n",
    "sentiment_words = list(lexicon.keys())"
   ]
  },
  {
   "cell_type": "markdown",
   "metadata": {},
   "source": [
    "## Modify Pipeline"
   ]
  },
  {
   "cell_type": "code",
   "execution_count": 12,
   "metadata": {},
   "outputs": [],
   "source": [
    "with open('/home/jon/Desktop/thesis/2010/2010_processed.json', 'r') as f:\n",
    "    articles = json.load(f)\n",
    "teams = pickle.load(open('/home/jon/Desktop/thesis/2010/team_names.p', 'rb'))\n",
    "players_to_teams = pickle.load(open('/home/jon/Desktop/thesis/2010/players_teams_mapping.p', 'rb'))\n",
    "\n",
    "players = list(players_to_teams.keys())"
   ]
  },
  {
   "cell_type": "code",
   "execution_count": 13,
   "metadata": {},
   "outputs": [],
   "source": [
    "ruler = EntityRuler(nlp, overwrite_ents=True)"
   ]
  },
  {
   "cell_type": "code",
   "execution_count": 14,
   "metadata": {},
   "outputs": [],
   "source": [
    "patterns = [{'label': 'NFL', 'pattern': team} for team in teams]\n",
    "name_patterns = [{'label': 'NFL', 'pattern': name} for name in players]\n",
    "patterns.extend(name_patterns)"
   ]
  },
  {
   "cell_type": "code",
   "execution_count": 15,
   "metadata": {},
   "outputs": [],
   "source": [
    "ruler.add_patterns(patterns)\n",
    "nlp.add_pipe(ruler)"
   ]
  },
  {
   "cell_type": "code",
   "execution_count": 16,
   "metadata": {},
   "outputs": [],
   "source": [
    "merge_ents = nlp.create_pipe(\"merge_entities\")\n",
    "nlp.add_pipe(merge_ents)"
   ]
  },
  {
   "cell_type": "code",
   "execution_count": 18,
   "metadata": {},
   "outputs": [],
   "source": [
    "is_player_getter = lambda token: token.text in players\n",
    "has_player_getter = lambda obj: any([t.text in players for t in obj])\n",
    "\n",
    "is_team_getter = lambda token: token.text in teams\n",
    "has_team_getter  =lambda obj: any([t.text in teams for t in obj])\n",
    "\n",
    "is_sentiment_getter = lambda token: token.lemma_ in sentiment_words\n",
    "has_sentiment_getter  =lambda obj: any([t.lemma_ in sentiment_words for t in obj])"
   ]
  },
  {
   "cell_type": "code",
   "execution_count": 19,
   "metadata": {},
   "outputs": [],
   "source": [
    "Token.set_extension(\"is_player\", getter=is_player_getter, force=True)\n",
    "Doc.set_extension(\"has_player\", getter=has_player_getter, force=True)\n",
    "Span.set_extension(\"has_player\", getter=has_player_getter, force=True)\n",
    "\n",
    "Token.set_extension(\"is_team\", getter=is_team_getter, force=True)\n",
    "Doc.set_extension(\"has_team\", getter=has_team_getter, force=True)\n",
    "Span.set_extension(\"has_team\", getter=has_team_getter, force=True)\n",
    "\n",
    "Token.set_extension(\"is_sentiment_word\", getter=is_sentiment_getter, force=True)\n",
    "Doc.set_extension(\"has_sentiment_word\", getter=has_sentiment_getter, force=True)\n",
    "Span.set_extension(\"has_sentiment_word\", getter=has_sentiment_getter, force=True)"
   ]
  },
  {
   "cell_type": "markdown",
   "metadata": {},
   "source": [
    "## Document Experiments"
   ]
  },
  {
   "cell_type": "code",
   "execution_count": 81,
   "metadata": {},
   "outputs": [],
   "source": [
    "doc = nlp(articles[2001]['content'])"
   ]
  },
  {
   "cell_type": "code",
   "execution_count": 91,
   "metadata": {},
   "outputs": [],
   "source": [
    "entities = dict()\n",
    "for ent in doc.ents:\n",
    "    if ent.label_ == 'NFL':\n",
    "        entities[ent.text] = 0"
   ]
  },
  {
   "cell_type": "code",
   "execution_count": 92,
   "metadata": {},
   "outputs": [],
   "source": [
    "sentences = []\n",
    "for sent in doc.sents:\n",
    "    if sent._.has_team or sent._.has_player:\n",
    "        sentences.append(sent)"
   ]
  },
  {
   "cell_type": "code",
   "execution_count": 93,
   "metadata": {},
   "outputs": [],
   "source": [
    "for i, sent in enumerate(sentences):\n",
    "    tokens = []\n",
    "    for token in sent:\n",
    "        if token._.is_player or token._.is_team or token._.is_sentiment_word:\n",
    "            tokens.append(token)\n",
    "        \n",
    "    sentences[i] = tokens"
   ]
  },
  {
   "cell_type": "code",
   "execution_count": 94,
   "metadata": {},
   "outputs": [],
   "source": [
    "for sent in sentences:\n",
    "    sentiment = 0\n",
    "    for token in sent[-1:]:\n",
    "        if token._.is_sentiment_word:\n",
    "            sentiment += lexicon[token.lemma_]['rating']\n",
    "    for token in sent:\n",
    "         if (token._.is_team or token._.is_player) and (token.dep == nsubj or token.dep == dobj):\n",
    "            entities[token.text] += sentiment"
   ]
  },
  {
   "cell_type": "code",
   "execution_count": 95,
   "metadata": {},
   "outputs": [
    {
     "data": {
      "text/plain": [
       "{'Cowboys': -2.05,\n",
       " 'Colts': 0,\n",
       " 'Tashard Choice': -2.26,\n",
       " 'Marion Barber': -2.3200000000000003,\n",
       " 'Flozell Adams': -2.8,\n",
       " 'Vikings': 0,\n",
       " 'Chris Johnson': 0.8,\n",
       " 'Ray Rice': 0,\n",
       " 'Jamaal Charles': 0}"
      ]
     },
     "execution_count": 95,
     "metadata": {},
     "output_type": "execute_result"
    }
   ],
   "source": [
    "entities"
   ]
  },
  {
   "cell_type": "code",
   "execution_count": 87,
   "metadata": {},
   "outputs": [
    {
     "data": {
      "text/plain": [
       "IRVING, Texas -- Can we put off plans to place a statue of Jason Garrett next to the one of Tom Landry outside of JerryWorld? Let's nitpick a little bit. After all, Jerry Jones basically begged us to expose his interim coach's warts despite the Cowboys being a fumble away from a four-game winning streak since Garrett grabbed the wheel of a 1-7 clunker. \"What I do not want to do -- and I want to be real careful -- is to try to identify or couch Jason as, he can step in here and get it done,\" Jerry said in the visitors' locker room at Lucas Oil Stadium after the Cowboys' comeback overtime win over the defending AFC champion Colts. \"Because if we don't get it done and times get hard, which that happens as a head coach, then all of the sudden the bloom is off the rose and everybody says he's overrated. It's a lot of expectations to get used to a guy coming in and winning 75 percent of his games right off the bat.\" OK, fine, you want to focus on a Garrett flaw? Look no further than the Cowboys' most productive offensive player in that 38-35 victory. Running back Tashard Choice, who chipped off 11 games worth of rust to rush for 100 yards and a touchdown on 19 carries Sunday, represents the biggest concern about Garrett as a candidate to become the Cowboys' full-time head coach. For that matter, so does Miles Austin, the Cowboys' best receiver. And so does left tackle Doug Free, the Cowboys' best offensive linemen. What do Tashard Choice, Austin and Free have in common? Injuries to veterans forced the coaches to give them prominent roles. They seized the opportunities, and at least in the cases of Austin and Free, cemented their status as significant pieces of the Cowboys' foundation. That figures to be the way things unfold with Tashard Choice, although Garrett has remained somewhat vague about the running back's role. If the Cowboys conduct an honest, serious coaching search after the season, the question about Garrett that needs to be discussed is whether he can evaluate talent well enough to succeed as general manager Jerry's head coach. Garrett has the bloodlines of a premier personnel evaluator. His father, Jim, was a longtime Cowboys scout who played a large role in building the team of the'90s. His brother, Judd, is the team's current director of pro scouting. But the interim coach doesn't have an impressive track record in that department. Can a man who considered past-his-prime Marion Barber to be a better back than Tashard Choice be trusted with heavy input on every personnel decision? That was a head-scratcher of a situation last season, when Tashard Choice played a bit role while a banged-up Marion Barber started. It was inexplicable this season, when Marion Barber averaged 3.1 yards per carry before straining his left calf while Tashard Choice played no significant role on offense. Can a man who considered steady but unspectacular Patrick Crayton to be a better receiver than Austin be trusted with heavy input on every personnel decision? The Cowboys didn't even let Austin compete for a starting job during the 2009 training camp. Austin's 250-yard, two-touchdown performance in his first start, made possible by Roy Williams' rib injury, made it painfully obvious that the young receiver was ready for a starring role. Can a man who considered gimpy Marc Colombo to be a better tackle than Free be trusted with heavy input on every personnel decision? Give the Cowboys credit for cutting Flozell Adams to make room for Free at left tackle this season, although a strong case can be made that they'd have been best off moving Flozell Adams to right tackle. The Cowboys clearly made a major mistake by giving Colombo his job back at right tackle -- and benching Free -- after the veteran rushed to return from ankle surgery last season. That mistake was magnified in the Cowboys' playoff loss to Vikings. As the assistant head coach/offensive coordinator, each of those decisions fell at Garrett's feet. We all know Wade Phillips wasn't one to stick his head in the offensive meeting room, much less make personnel decisions on that side of the ball. We're taking Garrett and his boss at their word here. Garrett firmly states that he doesn't consider draft status or contracts when evaluating players. Jerry claims that salary \"makes not one iota worth of difference\" on who gets playing time. That leaves one reasonable conclusion: The Cowboys have misevaluated their best receiver, best offensive lineman and arguably their best running back. In each case, the Cowboys stuck with veterans instead of promoting promising young players. \"I don't know [about] the benefit of the doubt,\" Garrett said when asked if that's what the veterans get in his personnel evaluations. \"You're still basing it on what you see. But if a certain player has given you evidence over a course of period of time, you certainly rely on that as well, both in years past and certainly leading up into that season.\" In the summer of 2008, Garrett saw a 40-year-old quarterback who could still be a solid backup. That opinion of Brad Chris Johnson wasn't shared by other Valley Ranch voices, but Garrett convinced Jerry that an upgrade wasn't necessary. That decision cost the Cowboys a playoff spot when Chris Johnson struggled miserably during a 1-2 stint as the fill-in starter. Garrett also gets a fair share of the credit for a draft gaffe. He thought Felix Jones was a perfect fit as a complementary back to Marion Barber when the Cowboys went on the clock in the 2008 first round. The Cowboys selected the ex-Arkansas back instead of Rashard Mendenhall, Chris Johnson, Ray Rice and Jamaal Charles, all of whom have had much more productive NFL careers thus far. Contrary to perception, Jerry relies strongly on input from his head coach on personnel decisions. That's why it's extremely important that his head coach has a good eye for talent. \"It's very important for all coaches -- head coaches, assistant coaches -- to evaluate the players the right way,\" Garrett said. \"That's the players you're bringing into the organization and once they're there, putting them in the best position that you can. It's an important part of our job.\" After a magnificent month as the interim coach, it's the one part of the job that should be considered a concern for Garrett. Tim MacMahon covers the Cowboys for ESPN Cowboys. You can follow him on Twitter or leave a question for his weekly mailbag."
      ]
     },
     "execution_count": 87,
     "metadata": {},
     "output_type": "execute_result"
    }
   ],
   "source": [
    "doc"
   ]
  },
  {
   "cell_type": "code",
   "execution_count": null,
   "metadata": {},
   "outputs": [],
   "source": []
  }
 ],
 "metadata": {
  "kernelspec": {
   "display_name": "Python 3",
   "language": "python",
   "name": "python3"
  },
  "language_info": {
   "codemirror_mode": {
    "name": "ipython",
    "version": 3
   },
   "file_extension": ".py",
   "mimetype": "text/x-python",
   "name": "python",
   "nbconvert_exporter": "python",
   "pygments_lexer": "ipython3",
   "version": "3.7.3"
  }
 },
 "nbformat": 4,
 "nbformat_minor": 2
}

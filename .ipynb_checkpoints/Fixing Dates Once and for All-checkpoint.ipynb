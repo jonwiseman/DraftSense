{
 "cells": [
  {
   "cell_type": "code",
   "execution_count": 17,
   "metadata": {},
   "outputs": [],
   "source": [
    "import json\n",
    "import pandas as pd\n",
    "import pickle\n",
    "import numpy as np\n",
    "from datetime import datetime\n",
    "from datetime import timedelta"
   ]
  },
  {
   "cell_type": "markdown",
   "metadata": {},
   "source": [
    "## Import Articles"
   ]
  },
  {
   "cell_type": "code",
   "execution_count": 51,
   "metadata": {},
   "outputs": [],
   "source": [
    "with open('/home/jon/Desktop/thesis/Data/Articles/Annotated/2010_annotated.json', 'r') as f:\n",
    "    articles = json.load(f)"
   ]
  },
  {
   "cell_type": "markdown",
   "metadata": {},
   "source": [
    "## Define Date Functions"
   ]
  },
  {
   "cell_type": "code",
   "execution_count": 42,
   "metadata": {},
   "outputs": [],
   "source": [
    "def clean_date(date):\n",
    "    return datetime.strptime(date.replace(',', ''), '%b %d %Y')\n",
    "\n",
    "\n",
    "def get_week(date_map, date):\n",
    "    for week in date_map:\n",
    "        if date in date_map[week]:\n",
    "            return week\n",
    "            \n",
    "    return None"
   ]
  },
  {
   "cell_type": "markdown",
   "metadata": {},
   "source": [
    "## Import Games Frame"
   ]
  },
  {
   "cell_type": "code",
   "execution_count": 4,
   "metadata": {},
   "outputs": [],
   "source": [
    "games = pd.read_csv('/home/jon/Desktop/thesis/Data/Kaggle CSV Files/Games/spreadspoke_scores.csv')\n",
    "games = games[games['schedule_season'] == 2010]\n",
    "games = games[['schedule_date', 'schedule_season', 'schedule_week']]\n",
    "games.drop_duplicates(['schedule_date', 'schedule_week'], inplace=True)\n",
    "games.drop_duplicates(['schedule_season', 'schedule_week'], keep='last', inplace=True)\n",
    "games['schedule_date'] = pd.to_datetime(games['schedule_date'])"
   ]
  },
  {
   "cell_type": "code",
   "execution_count": 5,
   "metadata": {
    "scrolled": true
   },
   "outputs": [
    {
     "data": {
      "text/html": [
       "<div>\n",
       "<style scoped>\n",
       "    .dataframe tbody tr th:only-of-type {\n",
       "        vertical-align: middle;\n",
       "    }\n",
       "\n",
       "    .dataframe tbody tr th {\n",
       "        vertical-align: top;\n",
       "    }\n",
       "\n",
       "    .dataframe thead th {\n",
       "        text-align: right;\n",
       "    }\n",
       "</style>\n",
       "<table border=\"1\" class=\"dataframe\">\n",
       "  <thead>\n",
       "    <tr style=\"text-align: right;\">\n",
       "      <th></th>\n",
       "      <th>schedule_date</th>\n",
       "      <th>schedule_season</th>\n",
       "      <th>schedule_week</th>\n",
       "    </tr>\n",
       "  </thead>\n",
       "  <tbody>\n",
       "    <tr>\n",
       "      <th>10022</th>\n",
       "      <td>2010-09-13</td>\n",
       "      <td>2010</td>\n",
       "      <td>1</td>\n",
       "    </tr>\n",
       "    <tr>\n",
       "      <th>10039</th>\n",
       "      <td>2010-09-20</td>\n",
       "      <td>2010</td>\n",
       "      <td>2</td>\n",
       "    </tr>\n",
       "    <tr>\n",
       "      <th>10055</th>\n",
       "      <td>2010-09-27</td>\n",
       "      <td>2010</td>\n",
       "      <td>3</td>\n",
       "    </tr>\n",
       "    <tr>\n",
       "      <th>10069</th>\n",
       "      <td>2010-10-04</td>\n",
       "      <td>2010</td>\n",
       "      <td>4</td>\n",
       "    </tr>\n",
       "    <tr>\n",
       "      <th>10083</th>\n",
       "      <td>2010-10-11</td>\n",
       "      <td>2010</td>\n",
       "      <td>5</td>\n",
       "    </tr>\n",
       "    <tr>\n",
       "      <th>10097</th>\n",
       "      <td>2010-10-18</td>\n",
       "      <td>2010</td>\n",
       "      <td>6</td>\n",
       "    </tr>\n",
       "    <tr>\n",
       "      <th>10111</th>\n",
       "      <td>2010-10-25</td>\n",
       "      <td>2010</td>\n",
       "      <td>7</td>\n",
       "    </tr>\n",
       "    <tr>\n",
       "      <th>10124</th>\n",
       "      <td>2010-11-01</td>\n",
       "      <td>2010</td>\n",
       "      <td>8</td>\n",
       "    </tr>\n",
       "    <tr>\n",
       "      <th>10137</th>\n",
       "      <td>2010-11-08</td>\n",
       "      <td>2010</td>\n",
       "      <td>9</td>\n",
       "    </tr>\n",
       "    <tr>\n",
       "      <th>10151</th>\n",
       "      <td>2010-11-15</td>\n",
       "      <td>2010</td>\n",
       "      <td>10</td>\n",
       "    </tr>\n",
       "    <tr>\n",
       "      <th>10167</th>\n",
       "      <td>2010-11-22</td>\n",
       "      <td>2010</td>\n",
       "      <td>11</td>\n",
       "    </tr>\n",
       "    <tr>\n",
       "      <th>10183</th>\n",
       "      <td>2010-11-29</td>\n",
       "      <td>2010</td>\n",
       "      <td>12</td>\n",
       "    </tr>\n",
       "    <tr>\n",
       "      <th>10199</th>\n",
       "      <td>2010-12-06</td>\n",
       "      <td>2010</td>\n",
       "      <td>13</td>\n",
       "    </tr>\n",
       "    <tr>\n",
       "      <th>10214</th>\n",
       "      <td>2010-12-13</td>\n",
       "      <td>2010</td>\n",
       "      <td>14</td>\n",
       "    </tr>\n",
       "    <tr>\n",
       "      <th>10231</th>\n",
       "      <td>2010-12-20</td>\n",
       "      <td>2010</td>\n",
       "      <td>15</td>\n",
       "    </tr>\n",
       "    <tr>\n",
       "      <th>10247</th>\n",
       "      <td>2010-12-28</td>\n",
       "      <td>2010</td>\n",
       "      <td>16</td>\n",
       "    </tr>\n",
       "    <tr>\n",
       "      <th>10248</th>\n",
       "      <td>2011-01-02</td>\n",
       "      <td>2010</td>\n",
       "      <td>17</td>\n",
       "    </tr>\n",
       "    <tr>\n",
       "      <th>10266</th>\n",
       "      <td>2011-01-09</td>\n",
       "      <td>2010</td>\n",
       "      <td>Wildcard</td>\n",
       "    </tr>\n",
       "    <tr>\n",
       "      <th>10270</th>\n",
       "      <td>2011-01-16</td>\n",
       "      <td>2010</td>\n",
       "      <td>Division</td>\n",
       "    </tr>\n",
       "    <tr>\n",
       "      <th>10272</th>\n",
       "      <td>2011-01-23</td>\n",
       "      <td>2010</td>\n",
       "      <td>Conference</td>\n",
       "    </tr>\n",
       "    <tr>\n",
       "      <th>10274</th>\n",
       "      <td>2011-02-06</td>\n",
       "      <td>2010</td>\n",
       "      <td>Superbowl</td>\n",
       "    </tr>\n",
       "  </tbody>\n",
       "</table>\n",
       "</div>"
      ],
      "text/plain": [
       "      schedule_date  schedule_season schedule_week\n",
       "10022    2010-09-13             2010             1\n",
       "10039    2010-09-20             2010             2\n",
       "10055    2010-09-27             2010             3\n",
       "10069    2010-10-04             2010             4\n",
       "10083    2010-10-11             2010             5\n",
       "10097    2010-10-18             2010             6\n",
       "10111    2010-10-25             2010             7\n",
       "10124    2010-11-01             2010             8\n",
       "10137    2010-11-08             2010             9\n",
       "10151    2010-11-15             2010            10\n",
       "10167    2010-11-22             2010            11\n",
       "10183    2010-11-29             2010            12\n",
       "10199    2010-12-06             2010            13\n",
       "10214    2010-12-13             2010            14\n",
       "10231    2010-12-20             2010            15\n",
       "10247    2010-12-28             2010            16\n",
       "10248    2011-01-02             2010            17\n",
       "10266    2011-01-09             2010      Wildcard\n",
       "10270    2011-01-16             2010      Division\n",
       "10272    2011-01-23             2010    Conference\n",
       "10274    2011-02-06             2010     Superbowl"
      ]
     },
     "execution_count": 5,
     "metadata": {},
     "output_type": "execute_result"
    }
   ],
   "source": [
    "games"
   ]
  },
  {
   "cell_type": "markdown",
   "metadata": {},
   "source": [
    "Feb. 7 2010 to September 6 2010 are offseason "
   ]
  },
  {
   "cell_type": "code",
   "execution_count": 21,
   "metadata": {},
   "outputs": [],
   "source": [
    "date_map = {}\n",
    "\n",
    "for i in range(len(games)-1):\n",
    "    start = games.iloc[i]['schedule_date']\n",
    "    end = games.iloc[i+1]['schedule_date']\n",
    "    index = pd.date_range(start, end)\n",
    "    date_map[games.iloc[i]['schedule_week']] = index\n",
    "    \n",
    "date_map['Offseason'] = pd.date_range(datetime(2010, 2, 7), datetime(2010, 9, 6))"
   ]
  },
  {
   "cell_type": "code",
   "execution_count": 22,
   "metadata": {
    "scrolled": true
   },
   "outputs": [
    {
     "data": {
      "text/plain": [
       "{'1': DatetimeIndex(['2010-09-13', '2010-09-14', '2010-09-15', '2010-09-16',\n",
       "                '2010-09-17', '2010-09-18', '2010-09-19', '2010-09-20'],\n",
       "               dtype='datetime64[ns]', freq='D'),\n",
       " '2': DatetimeIndex(['2010-09-20', '2010-09-21', '2010-09-22', '2010-09-23',\n",
       "                '2010-09-24', '2010-09-25', '2010-09-26', '2010-09-27'],\n",
       "               dtype='datetime64[ns]', freq='D'),\n",
       " '3': DatetimeIndex(['2010-09-27', '2010-09-28', '2010-09-29', '2010-09-30',\n",
       "                '2010-10-01', '2010-10-02', '2010-10-03', '2010-10-04'],\n",
       "               dtype='datetime64[ns]', freq='D'),\n",
       " '4': DatetimeIndex(['2010-10-04', '2010-10-05', '2010-10-06', '2010-10-07',\n",
       "                '2010-10-08', '2010-10-09', '2010-10-10', '2010-10-11'],\n",
       "               dtype='datetime64[ns]', freq='D'),\n",
       " '5': DatetimeIndex(['2010-10-11', '2010-10-12', '2010-10-13', '2010-10-14',\n",
       "                '2010-10-15', '2010-10-16', '2010-10-17', '2010-10-18'],\n",
       "               dtype='datetime64[ns]', freq='D'),\n",
       " '6': DatetimeIndex(['2010-10-18', '2010-10-19', '2010-10-20', '2010-10-21',\n",
       "                '2010-10-22', '2010-10-23', '2010-10-24', '2010-10-25'],\n",
       "               dtype='datetime64[ns]', freq='D'),\n",
       " '7': DatetimeIndex(['2010-10-25', '2010-10-26', '2010-10-27', '2010-10-28',\n",
       "                '2010-10-29', '2010-10-30', '2010-10-31', '2010-11-01'],\n",
       "               dtype='datetime64[ns]', freq='D'),\n",
       " '8': DatetimeIndex(['2010-11-01', '2010-11-02', '2010-11-03', '2010-11-04',\n",
       "                '2010-11-05', '2010-11-06', '2010-11-07', '2010-11-08'],\n",
       "               dtype='datetime64[ns]', freq='D'),\n",
       " '9': DatetimeIndex(['2010-11-08', '2010-11-09', '2010-11-10', '2010-11-11',\n",
       "                '2010-11-12', '2010-11-13', '2010-11-14', '2010-11-15'],\n",
       "               dtype='datetime64[ns]', freq='D'),\n",
       " '10': DatetimeIndex(['2010-11-15', '2010-11-16', '2010-11-17', '2010-11-18',\n",
       "                '2010-11-19', '2010-11-20', '2010-11-21', '2010-11-22'],\n",
       "               dtype='datetime64[ns]', freq='D'),\n",
       " '11': DatetimeIndex(['2010-11-22', '2010-11-23', '2010-11-24', '2010-11-25',\n",
       "                '2010-11-26', '2010-11-27', '2010-11-28', '2010-11-29'],\n",
       "               dtype='datetime64[ns]', freq='D'),\n",
       " '12': DatetimeIndex(['2010-11-29', '2010-11-30', '2010-12-01', '2010-12-02',\n",
       "                '2010-12-03', '2010-12-04', '2010-12-05', '2010-12-06'],\n",
       "               dtype='datetime64[ns]', freq='D'),\n",
       " '13': DatetimeIndex(['2010-12-06', '2010-12-07', '2010-12-08', '2010-12-09',\n",
       "                '2010-12-10', '2010-12-11', '2010-12-12', '2010-12-13'],\n",
       "               dtype='datetime64[ns]', freq='D'),\n",
       " '14': DatetimeIndex(['2010-12-13', '2010-12-14', '2010-12-15', '2010-12-16',\n",
       "                '2010-12-17', '2010-12-18', '2010-12-19', '2010-12-20'],\n",
       "               dtype='datetime64[ns]', freq='D'),\n",
       " '15': DatetimeIndex(['2010-12-20', '2010-12-21', '2010-12-22', '2010-12-23',\n",
       "                '2010-12-24', '2010-12-25', '2010-12-26', '2010-12-27',\n",
       "                '2010-12-28'],\n",
       "               dtype='datetime64[ns]', freq='D'),\n",
       " '16': DatetimeIndex(['2010-12-28', '2010-12-29', '2010-12-30', '2010-12-31',\n",
       "                '2011-01-01', '2011-01-02'],\n",
       "               dtype='datetime64[ns]', freq='D'),\n",
       " '17': DatetimeIndex(['2011-01-02', '2011-01-03', '2011-01-04', '2011-01-05',\n",
       "                '2011-01-06', '2011-01-07', '2011-01-08', '2011-01-09'],\n",
       "               dtype='datetime64[ns]', freq='D'),\n",
       " 'Wildcard': DatetimeIndex(['2011-01-09', '2011-01-10', '2011-01-11', '2011-01-12',\n",
       "                '2011-01-13', '2011-01-14', '2011-01-15', '2011-01-16'],\n",
       "               dtype='datetime64[ns]', freq='D'),\n",
       " 'Division': DatetimeIndex(['2011-01-16', '2011-01-17', '2011-01-18', '2011-01-19',\n",
       "                '2011-01-20', '2011-01-21', '2011-01-22', '2011-01-23'],\n",
       "               dtype='datetime64[ns]', freq='D'),\n",
       " 'Conference': DatetimeIndex(['2011-01-23', '2011-01-24', '2011-01-25', '2011-01-26',\n",
       "                '2011-01-27', '2011-01-28', '2011-01-29', '2011-01-30',\n",
       "                '2011-01-31', '2011-02-01', '2011-02-02', '2011-02-03',\n",
       "                '2011-02-04', '2011-02-05', '2011-02-06'],\n",
       "               dtype='datetime64[ns]', freq='D'),\n",
       " 'Offseason': DatetimeIndex(['2010-02-07', '2010-02-08', '2010-02-09', '2010-02-10',\n",
       "                '2010-02-11', '2010-02-12', '2010-02-13', '2010-02-14',\n",
       "                '2010-02-15', '2010-02-16',\n",
       "                ...\n",
       "                '2010-08-28', '2010-08-29', '2010-08-30', '2010-08-31',\n",
       "                '2010-09-01', '2010-09-02', '2010-09-03', '2010-09-04',\n",
       "                '2010-09-05', '2010-09-06'],\n",
       "               dtype='datetime64[ns]', length=212, freq='D')}"
      ]
     },
     "execution_count": 22,
     "metadata": {},
     "output_type": "execute_result"
    }
   ],
   "source": [
    "date_map"
   ]
  },
  {
   "cell_type": "markdown",
   "metadata": {},
   "source": [
    "article['Week'] = get_week(games, clean_date(article['date']))"
   ]
  },
  {
   "cell_type": "code",
   "execution_count": 46,
   "metadata": {},
   "outputs": [],
   "source": [
    "next_years_articles = []\n",
    "new_articles = []\n",
    "\n",
    "for article in articles:\n",
    "    week = get_week(date_map, clean_date(article['date']))\n",
    "    if week is None:\n",
    "        next_years_articles.append(article)\n",
    "        articles.remove(article)\n",
    "    else:\n",
    "        article['Week'] = week"
   ]
  },
  {
   "cell_type": "code",
   "execution_count": 47,
   "metadata": {},
   "outputs": [
    {
     "data": {
      "text/plain": [
       "296"
      ]
     },
     "execution_count": 47,
     "metadata": {},
     "output_type": "execute_result"
    }
   ],
   "source": [
    "len(next_years_articles)"
   ]
  },
  {
   "cell_type": "code",
   "execution_count": 48,
   "metadata": {},
   "outputs": [
    {
     "data": {
      "text/plain": [
       "6249"
      ]
     },
     "execution_count": 48,
     "metadata": {},
     "output_type": "execute_result"
    }
   ],
   "source": [
    "len(articles)"
   ]
  },
  {
   "cell_type": "code",
   "execution_count": 49,
   "metadata": {},
   "outputs": [],
   "source": [
    "with open(f'/home/jon/Desktop/thesis/Data/Articles/Annotated/2010_annotated.json', 'w') as f:\n",
    "        json.dump(articles, f)"
   ]
  },
  {
   "cell_type": "code",
   "execution_count": 50,
   "metadata": {},
   "outputs": [],
   "source": [
    "with open(f'/home/jon/Desktop/thesis/Data/Articles/Annotated/2011_annotated.json', 'w') as f:\n",
    "        json.dump(next_years_articles, f)"
   ]
  },
  {
   "cell_type": "code",
   "execution_count": null,
   "metadata": {},
   "outputs": [],
   "source": []
  }
 ],
 "metadata": {
  "kernelspec": {
   "display_name": "Python 3",
   "language": "python",
   "name": "python3"
  },
  "language_info": {
   "codemirror_mode": {
    "name": "ipython",
    "version": 3
   },
   "file_extension": ".py",
   "mimetype": "text/x-python",
   "name": "python",
   "nbconvert_exporter": "python",
   "pygments_lexer": "ipython3",
   "version": "3.7.3"
  }
 },
 "nbformat": 4,
 "nbformat_minor": 2
}
